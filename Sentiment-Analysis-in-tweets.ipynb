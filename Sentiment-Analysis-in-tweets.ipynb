{
 "cells": [
  {
   "cell_type": "markdown",
   "metadata": {},
   "source": [
    "# Twitter Sentiment Analysis using Tweepy and TextBlob "
   ]
  },
  {
   "cell_type": "markdown",
   "metadata": {},
   "source": [
    "## importer librairies "
   ]
  },
  {
   "cell_type": "code",
   "execution_count": 1,
   "metadata": {},
   "outputs": [],
   "source": [
    "from textblob import TextBlob \n",
    "import sys ,tweepy \n",
    "import matplotlib.pyplot as plt"
   ]
  },
  {
   "cell_type": "markdown",
   "metadata": {},
   "source": [
    "## Function percentage "
   ]
  },
  {
   "cell_type": "code",
   "execution_count": 2,
   "metadata": {},
   "outputs": [],
   "source": [
    "def percentage (part , whole):\n",
    "    return 100 * float(part)/float(whole)"
   ]
  },
  {
   "cell_type": "markdown",
   "metadata": {},
   "source": [
    "## key twitter"
   ]
  },
  {
   "cell_type": "code",
   "execution_count": 3,
   "metadata": {},
   "outputs": [],
   "source": [
    "consumerkey = \"2TZ1K5IosiWpBB1AgRzUN2OYe\"\n",
    "consumerSecret = \"wYB8KHMlK6IRSf7Rr1Chl1jx2chaRqzPa4HVKoZsHVWIMJ7g4d\"\n",
    "accessToken = \"1184232235488219136-bFjHLEHvbLcBt9SJ5PqXvNhfmd2wX4\"\n",
    "accessTokenSecret = \"3GLCtypZ0ibi2DVMY9sgQwnVuooBE90raAxtUik4luNfv\""
   ]
  },
  {
   "cell_type": "code",
   "execution_count": 4,
   "metadata": {},
   "outputs": [],
   "source": [
    "#Authentication\n",
    "auth = tweepy.OAuthHandler(consumerkey ,consumerSecret)\n",
    "auth.set_access_token(accessToken , accessTokenSecret)\n",
    "api = tweepy.API(auth)"
   ]
  },
  {
   "cell_type": "code",
   "execution_count": 139,
   "metadata": {},
   "outputs": [
    {
     "name": "stdout",
     "output_type": "stream",
     "text": [
      "Enter keyword/hashtag to search about :python\n"
     ]
    }
   ],
   "source": [
    "##input Search term \n",
    "searchTerm = input(\"Enter keyword/hashtag to search about :\")"
   ]
  },
  {
   "cell_type": "code",
   "execution_count": 143,
   "metadata": {},
   "outputs": [
    {
     "name": "stdout",
     "output_type": "stream",
     "text": [
      "Enter how many tweets to analyze :3000\n"
     ]
    }
   ],
   "source": [
    "##input Number Search Terms \n",
    "noOfSearchTerms = int(input(\"Enter how many tweets to analyze :\"))"
   ]
  },
  {
   "cell_type": "code",
   "execution_count": 140,
   "metadata": {},
   "outputs": [],
   "source": [
    "tweets = api.search(q=searchTerm, lang=\"en\", count=noOfSearchTerms, tweet_mode=\"extended\")"
   ]
  },
  {
   "cell_type": "code",
   "execution_count": 141,
   "metadata": {},
   "outputs": [],
   "source": [
    "positive = 0 \n",
    "negative = 0 \n",
    "neutral = 0 \n",
    "polarity = 0"
   ]
  },
  {
   "cell_type": "code",
   "execution_count": 142,
   "metadata": {},
   "outputs": [
    {
     "name": "stdout",
     "output_type": "stream",
     "text": [
      "BUSINESS NAME\n",
      "Ike-njoku David. \n",
      "Web developer.\n",
      "Ajax, XML, Python, php, javascript ,  bootstrap.\n",
      "\n",
      "Create your websites from as low as 35k\n",
      "Get your  free lancing websites for even less\n",
      "Link to last work: https://t.co/qbTps8q3rA \n",
      "Email = testuser@afrileg.com\n",
      "Password = testuser. \n",
      "Dm\n",
      "RT @python__tut: Analysis of Tweets about the Joker in Python\n",
      "\n",
      "☞ https://t.co/YQRo2mrasM\n",
      "\n",
      "#python #Django https://t.co/i0sGAfzzdk\n",
      "RT @ffsake: The Chinese are rescuing British Steel in the same way a python rescues a rat. They are buying up a rival at a knock down price…\n",
      "RT @z0idex: This is a quick overview of my recon process:\n",
      "\n",
      "1.) Subdomain Scanning\n",
      "2.) Resolve host names with python\n",
      "3.) Masscan / nmap\n",
      "4.)…\n",
      "RT @Zerynth: Learn how to create a remote weather station in #Python with Zerynth, @WolkAbout and @XinaBox: https://t.co/ETKfRTlYvz\n",
      "#IoT #m…\n",
      "RT @Python_content: If elif and else statement are used A LOT as a Python developer. Make sure you know how to use them! https://t.co/erNto…\n",
      "\"How to Build a 910-wpm Typing Bot with Just 12 Lines of Python\" by @____cypher____ https://t.co/5qbTYTMuak #python #automation\n",
      "Investigating: Asynchronous jobs on PyPI such as email sending and cache invalidation are currently delayed. https://t.co/qrNuhhOzsy\n",
      "RT @gp_pulipaka: Innovative #Mathematics Projects that Inspire Students: Estimating Pi. #BigData #Analytics #DataScience #AI #MachineLearni…\n",
      "RT @Python_content: If elif and else statement are used A LOT as a Python developer. Make sure you know how to use them! https://t.co/erNto…\n",
      "If elif and else statement are used A LOT as a Python developer. Make sure you know how to use them! https://t.co/erNto2TuY4   #100DaysOfCode\n",
      "@DTraynier @sophiamcoutts has as much self awareness as a Monty Python charracter.. \n",
      "\n",
      "Must be all that inbreeding.\n",
      "This is what it takes to add support for a new Python version: https://t.co/UFdi8KNMG1\n",
      "RT @greenwood100: No, just no https://t.co/6xDUz97haq\n",
      "RT @OUFreeLearning: Do you want to write your own computer programs?\n",
      "\n",
      "#Software and #data make the world go round. Learn programming, to an…\n",
      "RT @realpython: 🐍📰 Python Community Interview With Al Sweigart\n",
      "\n",
      "Al Sweigart is an accomplished developer, conference speaker, teacher, and…\n",
      "RT @elisha_revis: Students in Programming utilizing Python and Turtle Graphics to write a script for an American Flag 🇺🇸 in honor of #veter…\n",
      "RT @NefariousBanana: What the fuck is boomer humor besides an aesthetic?  Is it defined by the generation of people who made it?  Would Mon…\n",
      "RT @realpython: 🐍📰 Python Community Interview With Al Sweigart\n",
      "\n",
      "Al Sweigart is an accomplished developer, conference speaker, teacher, and…\n",
      "RT @Ronald_vanLoon: 12 #Python Resources for #DataScience\n",
      " by @granvilleDSC @DataScienceCtrl |\n",
      "\n",
      "Read more at https://t.co/MxaXSUXaBo\n",
      "\n",
      " #Big…\n",
      "If you or your organization is interested in participating in this project, we've just posted the RFP, which includes instructions for submitting proposals, evaluation criteria and scope of work.\n",
      "\n",
      "(12/12)\n",
      "\n",
      "https://t.co/4knxoVACy5\n",
      "This is great news for pip and Python packaging in general. Huge shout out to @pradyunsg for his existing work on the resolver issue and guidance here, and to @brainwane for all her tireless work acquiring and directing funding for Python projects.\n",
      "\n",
      "(11/12)\n",
      "Big news: the Python Packaging Working Group has secured &gt;$400K in grants from multiple funders (TBA) to improve one of the most fundamental parts of pip: its dependency resolver.\n",
      "\n",
      "(1/12)\n",
      "\n",
      "https://t.co/lT7xG0NNr2\n",
      "RT @m_govoni: Are you an excellent #Python programmer with experience in generating and using databases? We're hiring a software/data engin…\n",
      "RT @rohan_connolly: Australia’s deputy PM, people. What an absolute embarrassment you are, Michael. A backward-looking provincial hack. You…\n",
      "RT @gp_pulipaka: Innovative #Mathematics Projects that Inspire Students: Estimating Pi. #BigData #Analytics #DataScience #AI #MachineLearni…\n",
      "RT @baltazar223: it's weekend project time 😎\n",
      "\n",
      "here, a nice package for #XRPledger  #Python developers \n",
      "\n",
      "hope you enjoy it 👍\n",
      "\n",
      "https://t.co/B…\n",
      "Solved a Daily Coding Problem #342 [Medium]. Reduce is a function that takes in an array, a combining function, and an initial value and builds up a result by calling the combining function on each element of the array, left to right. Asked by Stripe. Python &amp; VSC.\n",
      "@fowkc The feel of different languages is interesting. Python is like eating a bowl of delicious custard whilst trampolining. C is is like rummaging in a potato sack for a scalpel.\n",
      "RT @RonMacLeanHTH: I have worked with Don for 30 years, and we both love hockey. But last night, I know we failed you. I see hockey as part…\n",
      "RT @RonMacLeanHTH: I want to sincerely apologize to our viewers and Canadians. During last night's broadcast, Don made comments that were h…\n",
      "RT @GitHubEducation: Attention students! Our friends over at @EducativeInc now offer SIX free months of 60+ courses covering in-demand topi…\n",
      "Picked up a python/R for dummies while I'm at it\n",
      "Students in Programming utilizing Python and Turtle Graphics to write a script for an American Flag 🇺🇸 in honor of #veteransday2019 \n",
      "#sjhssharks #hcsstem #leadhcs https://t.co/WRPBTG2eTc\n",
      "Hot Post: Finally got a Python thought I'd do something a little more dynamic than just a screenshot. via /r/EliteDangerous https://t.co/rhibTHi6el\n",
      "RT @realpython: Thank You, Guido #python https://t.co/x7EqtJTWCJ\n",
      "RT @Refinitiv: #Python in #FinancialMarkets: Discover the tools and libraries helping to do more with #MarketData. https://t.co/ICbceE1tDw…\n",
      "RT @realSemir: Check out my latest blog post on #union4digital about the amazing #Python for Everybody course on @coursera. Truly great for…\n",
      "RT @gitlost: fucking python\n",
      "RT @pyconsk: Good news everyone! For a couple of weeks we have new website for #PyConSK 2020: https://t.co/6sbG5KmVLs Stay tuned for more i…\n",
      "RT @gp_pulipaka: 5 Questions To Ask About Machine Learning To Know If The Use is Valid. #BigData #Analytics #DataScience #AI #MachineLearni…\n",
      "ANA-SUSY-2018-06 CLs works with minuit but not with scipy optimizer https://t.co/JbrMoDr6QI #Python #Shell #Dockerfile #opensource\n",
      "RT @gp_pulipaka: 5 Questions To Ask About Machine Learning To Know If The Use is Valid. #BigData #Analytics #DataScience #AI #MachineLearni…\n",
      "RT @baltazar223: it's weekend project time 😎\n",
      "\n",
      "here, a nice package for #XRPledger  #Python developers \n",
      "\n",
      "hope you enjoy it 👍\n",
      "\n",
      "https://t.co/B…\n",
      "@EboyGuy Probably work through a free intro python course, then (perhaps?) mess around with the Twitter api to get a bot or two off the ground\n",
      "\n",
      "See how you feel after that :)\n",
      "RT @pwnallthethings: So anyway long story short is my three hours debugging broken crypto is just I don't know how to do substrings in pyth…\n",
      "Image crawler in Python - Web Scraping\n",
      "\n",
      "☞ https://t.co/ws5wXM2N0d\n",
      "\n",
      "#ai #TensorFlow https://t.co/X331d7wBKz\n",
      "Maybe you need one of these TeeJay Dill! https://t.co/RHc6dgbOYw\n",
      "RT @Refinitiv: #Python in #FinancialMarkets: Discover the tools and libraries helping to do more with #MarketData. https://t.co/ICbceE1tDw…\n",
      "@EboyGuy I took a C++ class in college but I'm not sure that was ideal, python is probably your best bet\n",
      "\n",
      "The real trick is thinking of something you might like to make and then blundering through the process of making it so that your effort is directed rather than thrashy\n",
      "@xor_nam or you be python ??\n",
      "Your First Machine Learning Project in Python Step-By-Step https://t.co/gDo3vIKeRX\n",
      "@SantiagoAuFund Someone that saw “The meaning of life” by the Monty Python. A great movie! https://t.co/UdCCtscLhb\n",
      "Understanding rain_test_split Vs StratifiedShuffleSplit \n",
      "What they are, when to and why to use these two distinctive splits by @AbozeBrain \n",
      "https://t.co/PVV9BFl9Qa #MachineLearning #DataScience #python\n",
      "RT @m_govoni: Are you an excellent #Python programmer with experience in generating and using databases? We're hiring a software/data engin…\n",
      "RT @PythonHub: How to Visualize Data on top of a Map in Python using the Geoviews library\n",
      "\n",
      "https://t.co/lrridUMT1p https://t.co/B3ohsusDII\n",
      "Image crawler in Python - Web Scraping\n",
      "\n",
      "☞ https://t.co/QkfrCqEFrG\n",
      "\n",
      "#ai #TensorFlow https://t.co/8GS9t0TIVA\n",
      "What the fuck is boomer humor besides an aesthetic?  Is it defined by the generation of people who made it?  Would Monty Python be called Boomer humor because it was made by boomers?\n",
      "\n",
      "This entire schism makes no god damn sense to me.\n",
      "RT @XSyourself: Maybe Jonah lived in a python, that was disguised as a whale. I’m here to help you believe.\n",
      "@pwnallthethings Python and spacing 🤮🤮🤮\n",
      "What is Walrus Operator in Python 3.8?\n",
      "\n",
      "☞ https://t.co/eOUJe8YOAr\n",
      "\n",
      "#Python #Morioh https://t.co/yWohD2fxnF\n",
      "RT @jacobian: New Year New ... Python Development Environment: https://t.co/NLjk3AOUNa\n",
      "So anyway long story short is my three hours debugging broken crypto is just I don't know how to do substrings in python properly\n",
      "RT @steedmrspeel: Monty Python’s John Cleese and Eric Idle on 50 Years of ‘Flying Circus’ https://t.co/3BJzgRc1uJ via @thedailybeast\n",
      "RT @Zerynth: Learn how to create a remote weather station in #Python with Zerynth, @WolkAbout and @XinaBox: https://t.co/ETKfRTlYvz\n",
      "#IoT #m…\n",
      "RT @timbiernoth: Cool stuff about Machine Learning with TensorFlow 🤓 Thanks for share 👍 #python #programming #TensorFlow https://t.co/nSFPp…\n",
      "Adding a shaded box to a plot in python https://t.co/2MvHTF3LOj https://t.co/dl3a5G4gs4\n",
      "RT @ProgrammerBooks: Surface For Dummies, 2nd Edition ==&gt; https://t.co/7IVgZDochP\n",
      "\n",
      "#python #javascript #angular #reactjs #vuejs #perl #ruby…\n",
      "\"It was great to learn about regularization. After learning it I am now actually using this for my work and it is a great help.\"\n",
      "\n",
      "#student #feedback for #onlinecourse #MachineLearning with #Python @AaltoUniversity @CSAalto @FITech_ \n",
      "https://t.co/4UpL3SeMgn\n",
      "What is Walrus Operator in Python 3.8?\n",
      "\n",
      "☞ https://t.co/0k6ZdPp8ZP\n",
      "\n",
      "#Python #Morioh https://t.co/QHhbvgXfye\n",
      "Me with my python codes https://t.co/1TQx0Naqzt\n",
      "@RepSwalwell It’s like a Monty Python episode... https://t.co/pNKYNaZjub\n",
      "RT @PyImageSearch: New tutorial!🚀 Automatically detect natural disasters with up to 95% accuracy with #Keras and #TensorFlow 2.0 🌪️🌀🔥🌋\n",
      "\n",
      "- I…\n",
      "RT @ashwinmegha: The tools any #DataScientist needs - in an #infographic via @ingliguori\n",
      "\n",
      "#DataAnalytics #datascience #PyTorch #python #Exc…\n",
      "RT @ProgrammerBooks: Surface For Dummies, 2nd Edition ==&gt; https://t.co/7IVgZDochP\n",
      "\n",
      "#python #javascript #angular #reactjs #vuejs #perl #ruby…\n"
     ]
    }
   ],
   "source": [
    "for tweet in tweets:\n",
    "    print(tweet.full_text)"
   ]
  },
  {
   "cell_type": "code",
   "execution_count": 144,
   "metadata": {},
   "outputs": [],
   "source": [
    "for tweet in tweets:\n",
    "    analysis = TextBlob(tweet.full_text)\n",
    "    polarity += analysis.sentiment.polarity \n",
    "    \n",
    "    if (analysis.sentiment.polarity  == 0):\n",
    "        neutral += 1\n",
    "    elif (analysis.sentiment.polarity  < 0.00):\n",
    "        negative +=1\n",
    "    elif (analysis.sentiment.polarity  > 0.00):\n",
    "        positive += 1"
   ]
  },
  {
   "cell_type": "code",
   "execution_count": 145,
   "metadata": {},
   "outputs": [],
   "source": [
    "positive = percentage(positive ,noOfSearchTerms)\n",
    "negative = percentage(negative ,noOfSearchTerms)\n",
    "neutral = percentage(neutral ,noOfSearchTerms)\n",
    "polarity = percentage(polarity ,noOfSearchTerms)"
   ]
  },
  {
   "cell_type": "code",
   "execution_count": 146,
   "metadata": {},
   "outputs": [
    {
     "data": {
      "text/plain": [
       "1.3"
      ]
     },
     "execution_count": 146,
     "metadata": {},
     "output_type": "execute_result"
    }
   ],
   "source": [
    "positive"
   ]
  },
  {
   "cell_type": "code",
   "execution_count": 147,
   "metadata": {},
   "outputs": [],
   "source": [
    "positive = format(positive , '.2f')\n",
    "neutral= format(neutral , '.2f')\n",
    "negative = format(negative , '.2f')"
   ]
  },
  {
   "cell_type": "code",
   "execution_count": 148,
   "metadata": {},
   "outputs": [
    {
     "name": "stdout",
     "output_type": "stream",
     "text": [
      "How people are reacting on pythonby analyzing 3000 Tweets\n",
      "Positive\n"
     ]
    }
   ],
   "source": [
    "print (\"How people are reacting on \"+ searchTerm + \"by analyzing \"+ str(noOfSearchTerms) + \" Tweets\")\n",
    "\n",
    "if (polarity == 0):\n",
    "    print (\"Neutral\")\n",
    "elif(polarity < 0.00):\n",
    "    print (\"Negative\")\n",
    "elif(polarity > 0.00):\n",
    "    print(\"Positive\")"
   ]
  },
  {
   "cell_type": "code",
   "execution_count": 149,
   "metadata": {},
   "outputs": [],
   "source": [
    "labels =['Positive [' + str(positive) + '%]', 'Neutral [' + str(neutral) + '%]','Negative [' + str(negative) + '%]']"
   ]
  },
  {
   "cell_type": "code",
   "execution_count": 150,
   "metadata": {},
   "outputs": [],
   "source": [
    "sizes = [ positive , neutral , negative]"
   ]
  },
  {
   "cell_type": "code",
   "execution_count": 151,
   "metadata": {},
   "outputs": [],
   "source": [
    "colors = ['yellowgreen' , 'gold', 'red']"
   ]
  },
  {
   "cell_type": "code",
   "execution_count": 152,
   "metadata": {},
   "outputs": [
    {
     "data": {
      "image/png": "[encoded data removed]",
      "text/plain": [
       "<Figure size 432x288 with 1 Axes>"
      ]
     },
     "metadata": {},
     "output_type": "display_data"
    }
   ],
   "source": [
    "patches , texts = plt.pie(sizes , colors=colors , startangle = 90)\n",
    "plt.legend(patches , labels , loc=\"best\")\n",
    "plt.title('How people are reacting on'+ searchTerm + 'by analyzing '+ str(noOfSearchTerms) + ' Tweets')\n",
    "plt.axis('equal')\n",
    "plt.show()"
   ]
  },
  {
   "cell_type": "code",
   "execution_count": null,
   "metadata": {},
   "outputs": [],
   "source": []
  },
  {
   "cell_type": "code",
   "execution_count": null,
   "metadata": {},
   "outputs": [],
   "source": []
  }
 ],
 "metadata": {
  "kernelspec": {
   "display_name": "Python 3",
   "language": "python",
   "name": "python3"
  },
  "language_info": {
   "codemirror_mode": {
    "name": "ipython",
    "version": 3
   },
   "file_extension": ".py",
   "mimetype": "text/x-python",
   "name": "python",
   "nbconvert_exporter": "python",
   "pygments_lexer": "ipython3",
   "version": "3.7.3"
  }
 },
 "nbformat": 4,
 "nbformat_minor": 2
}
